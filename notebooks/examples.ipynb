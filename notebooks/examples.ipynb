{
 "metadata": {
  "language_info": {
   "codemirror_mode": {
    "name": "ipython",
    "version": 3
   },
   "file_extension": ".py",
   "mimetype": "text/x-python",
   "name": "python",
   "nbconvert_exporter": "python",
   "pygments_lexer": "ipython3",
   "version": "3.9.10-final"
  },
  "orig_nbformat": 2,
  "kernelspec": {
   "name": "python3",
   "display_name": "Python 3.9.10 64-bit",
   "metadata": {
    "interpreter": {
     "hash": "ac2eaa0ea0ebeafcc7822e65e46aa9d4f966f30b695406963e145ea4a91cd4fc"
    }
   }
  }
 },
 "nbformat": 4,
 "nbformat_minor": 2,
 "cells": [
  {
   "cell_type": "code",
   "execution_count": 1,
   "metadata": {},
   "outputs": [],
   "source": [
    "%load_ext autoreload\n",
    "%autoreload 2"
   ]
  },
  {
   "cell_type": "code",
   "execution_count": 2,
   "metadata": {},
   "outputs": [],
   "source": [
    "from rllull.taxonomy import Taxonomy, Taxon\n"
   ]
  },
  {
   "cell_type": "code",
   "execution_count": 3,
   "metadata": {},
   "outputs": [],
   "source": [
    "with open('../resources/simple_taxonomy.txt') as f:\n",
    "    lines = f.readlines()"
   ]
  },
  {
   "cell_type": "code",
   "execution_count": 15,
   "metadata": {},
   "outputs": [],
   "source": [
    "t = Taxonomy(\"example\")"
   ]
  },
  {
   "cell_type": "code",
   "execution_count": 16,
   "metadata": {
    "tags": [
     "outputPrepend"
    ]
   },
   "outputs": [
    {
     "output_type": "stream",
     "name": "stderr",
     "text": [
      "157 | DEBUG    | rllull.taxonomy:add:32 - Self node Taxon(id='root', name='root', level=-1, parent=None, children={}) already in the taxonomy. Skipping...\n",
      "2022-02-01 20:36:33.158 | DEBUG    | rllull.taxonomy:add:18 - Including hobbies in Taxon(id='root', name='root', level=0, parent=None, children={'sports': Taxon(id='sports', name='sports', level=1, parent=..., children={'basketball\\n': Taxon(id='basketball\\n', name='basketball\\n', level=2, parent=..., children={}), 'football\\n': Taxon(id='football\\n', name='football\\n', level=2, parent=..., children={}), 'football': Taxon(id='football', name='football', level=2, parent=..., children={'real\\n': Taxon(id='real\\n', name='real\\n', level=3, parent=..., children={})}), 'hockey\\n': Taxon(id='hockey\\n', name='hockey\\n', level=2, parent=..., children={}), 'tennis\\n': Taxon(id='tennis\\n', name='tennis\\n', level=2, parent=..., children={}), 'tennis': Taxon(id='tennis', name='tennis', level=2, parent=..., children={'rafael_nadal\\n': Taxon(id='rafael_nadal\\n', name='rafael_nadal\\n', level=3, parent=..., children={}), 'roger_federer\\n': Taxon(id='roger_federer\\n', name='roger_federer\\n', level=3, parent=..., children={})})})})\n",
      "2022-02-01 20:36:33.159 | DEBUG    | rllull.taxonomy:add:27 - key sports\n",
      "2022-02-01 20:36:33.160 | DEBUG    | rllull.taxonomy:add:27 - key basketball\n",
      "\n",
      "2022-02-01 20:36:33.160 | DEBUG    | rllull.taxonomy:add:27 - key football\n",
      "\n",
      "2022-02-01 20:36:33.161 | DEBUG    | rllull.taxonomy:add:27 - key football\n",
      "2022-02-01 20:36:33.162 | DEBUG    | rllull.taxonomy:add:27 - key real\n",
      "\n",
      "2022-02-01 20:36:33.163 | DEBUG    | rllull.taxonomy:add:27 - key hockey\n",
      "\n",
      "2022-02-01 20:36:33.164 | DEBUG    | rllull.taxonomy:add:27 - key tennis\n",
      "\n",
      "2022-02-01 20:36:33.165 | DEBUG    | rllull.taxonomy:add:27 - key tennis\n",
      "2022-02-01 20:36:33.166 | DEBUG    | rllull.taxonomy:add:27 - key rafael_nadal\n",
      "\n",
      "2022-02-01 20:36:33.167 | DEBUG    | rllull.taxonomy:add:27 - key roger_federer\n",
      "\n",
      "2022-02-01 20:36:33.168 | DEBUG    | rllull.taxonomy:add:27 - key hobbies\n",
      "2022-02-01 20:36:33.168 | DEBUG    | rllull.taxonomy:add:18 - Including lego_building\n",
      " in Taxon(id='hobbies', name='hobbies', level=1, parent=Taxon(id='root', name='root', level=0, parent=None, children={'sports': Taxon(id='sports', name='sports', level=1, parent=..., children={'basketball\\n': Taxon(id='basketball\\n', name='basketball\\n', level=2, parent=..., children={}), 'football\\n': Taxon(id='football\\n', name='football\\n', level=2, parent=..., children={}), 'football': Taxon(id='football', name='football', level=2, parent=..., children={'real\\n': Taxon(id='real\\n', name='real\\n', level=3, parent=..., children={})}), 'hockey\\n': Taxon(id='hockey\\n', name='hockey\\n', level=2, parent=..., children={}), 'tennis\\n': Taxon(id='tennis\\n', name='tennis\\n', level=2, parent=..., children={}), 'tennis': Taxon(id='tennis', name='tennis', level=2, parent=..., children={'rafael_nadal\\n': Taxon(id='rafael_nadal\\n', name='rafael_nadal\\n', level=3, parent=..., children={}), 'roger_federer\\n': Taxon(id='roger_federer\\n', name='roger_federer\\n', level=3, parent=..., children={})})}), 'hobbies': ...}), children={})\n",
      "2022-02-01 20:36:33.170 | DEBUG    | rllull.taxonomy:add:32 - Self node Taxon(id='root', name='root', level=-1, parent=None, children={}) already in the taxonomy. Skipping...\n",
      "2022-02-01 20:36:33.170 | DEBUG    | rllull.taxonomy:add:32 - Self node Taxon(id='hobbies', name='hobbies', level=-1, parent=None, children={}) already in the taxonomy. Skipping...\n",
      "2022-02-01 20:36:33.171 | DEBUG    | rllull.taxonomy:add:27 - key sports\n",
      "2022-02-01 20:36:33.172 | DEBUG    | rllull.taxonomy:add:27 - key basketball\n",
      "\n",
      "2022-02-01 20:36:33.173 | DEBUG    | rllull.taxonomy:add:27 - key football\n",
      "\n",
      "2022-02-01 20:36:33.174 | DEBUG    | rllull.taxonomy:add:27 - key football\n",
      "2022-02-01 20:36:33.175 | DEBUG    | rllull.taxonomy:add:27 - key real\n",
      "\n",
      "2022-02-01 20:36:33.176 | DEBUG    | rllull.taxonomy:add:27 - key hockey\n",
      "\n",
      "2022-02-01 20:36:33.176 | DEBUG    | rllull.taxonomy:add:27 - key tennis\n",
      "\n",
      "2022-02-01 20:36:33.177 | DEBUG    | rllull.taxonomy:add:27 - key tennis\n",
      "2022-02-01 20:36:33.178 | DEBUG    | rllull.taxonomy:add:27 - key rafael_nadal\n",
      "\n",
      "2022-02-01 20:36:33.179 | DEBUG    | rllull.taxonomy:add:27 - key roger_federer\n",
      "\n",
      "2022-02-01 20:36:33.180 | DEBUG    | rllull.taxonomy:add:27 - key hobbies\n",
      "2022-02-01 20:36:33.181 | DEBUG    | rllull.taxonomy:add:18 - Including running\n",
      " in Taxon(id='hobbies', name='hobbies', level=1, parent=Taxon(id='root', name='root', level=0, parent=None, children={'sports': Taxon(id='sports', name='sports', level=1, parent=..., children={'basketball\\n': Taxon(id='basketball\\n', name='basketball\\n', level=2, parent=..., children={}), 'football\\n': Taxon(id='football\\n', name='football\\n', level=2, parent=..., children={}), 'football': Taxon(id='football', name='football', level=2, parent=..., children={'real\\n': Taxon(id='real\\n', name='real\\n', level=3, parent=..., children={})}), 'hockey\\n': Taxon(id='hockey\\n', name='hockey\\n', level=2, parent=..., children={}), 'tennis\\n': Taxon(id='tennis\\n', name='tennis\\n', level=2, parent=..., children={}), 'tennis': Taxon(id='tennis', name='tennis', level=2, parent=..., children={'rafael_nadal\\n': Taxon(id='rafael_nadal\\n', name='rafael_nadal\\n', level=3, parent=..., children={}), 'roger_federer\\n': Taxon(id='roger_federer\\n', name='roger_federer\\n', level=3, parent=..., children={})})}), 'hobbies': ...}), children={'lego_building\\n': Taxon(id='lego_building\\n', name='lego_building\\n', level=2, parent=..., children={})})\n",
      "2022-02-01 20:36:33.182 | DEBUG    | rllull.taxonomy:add:32 - Self node Taxon(id='root', name='root', level=-1, parent=None, children={}) already in the taxonomy. Skipping...\n",
      "2022-02-01 20:36:33.183 | DEBUG    | rllull.taxonomy:add:32 - Self node Taxon(id='hobbies', name='hobbies', level=-1, parent=None, children={}) already in the taxonomy. Skipping...\n",
      "2022-02-01 20:36:33.183 | DEBUG    | rllull.taxonomy:add:27 - key sports\n",
      "2022-02-01 20:36:33.184 | DEBUG    | rllull.taxonomy:add:27 - key basketball\n",
      "\n",
      "2022-02-01 20:36:33.185 | DEBUG    | rllull.taxonomy:add:27 - key football\n",
      "\n",
      "2022-02-01 20:36:33.186 | DEBUG    | rllull.taxonomy:add:27 - key football\n",
      "2022-02-01 20:36:33.186 | DEBUG    | rllull.taxonomy:add:27 - key real\n",
      "\n",
      "2022-02-01 20:36:33.187 | DEBUG    | rllull.taxonomy:add:27 - key hockey\n",
      "\n",
      "2022-02-01 20:36:33.188 | DEBUG    | rllull.taxonomy:add:27 - key tennis\n",
      "\n",
      "2022-02-01 20:36:33.189 | DEBUG    | rllull.taxonomy:add:27 - key tennis\n",
      "2022-02-01 20:36:33.189 | DEBUG    | rllull.taxonomy:add:27 - key rafael_nadal\n",
      "\n",
      "2022-02-01 20:36:33.190 | DEBUG    | rllull.taxonomy:add:27 - key roger_federer\n",
      "\n",
      "2022-02-01 20:36:33.191 | DEBUG    | rllull.taxonomy:add:27 - key hobbies\n",
      "2022-02-01 20:36:33.192 | DEBUG    | rllull.taxonomy:add:18 - Including climbing\n",
      " in Taxon(id='hobbies', name='hobbies', level=1, parent=Taxon(id='root', name='root', level=0, parent=None, children={'sports': Taxon(id='sports', name='sports', level=1, parent=..., children={'basketball\\n': Taxon(id='basketball\\n', name='basketball\\n', level=2, parent=..., children={}), 'football\\n': Taxon(id='football\\n', name='football\\n', level=2, parent=..., children={}), 'football': Taxon(id='football', name='football', level=2, parent=..., children={'real\\n': Taxon(id='real\\n', name='real\\n', level=3, parent=..., children={})}), 'hockey\\n': Taxon(id='hockey\\n', name='hockey\\n', level=2, parent=..., children={}), 'tennis\\n': Taxon(id='tennis\\n', name='tennis\\n', level=2, parent=..., children={}), 'tennis': Taxon(id='tennis', name='tennis', level=2, parent=..., children={'rafael_nadal\\n': Taxon(id='rafael_nadal\\n', name='rafael_nadal\\n', level=3, parent=..., children={}), 'roger_federer\\n': Taxon(id='roger_federer\\n', name='roger_federer\\n', level=3, parent=..., children={})})}), 'hobbies': ...}), children={'lego_building\\n': Taxon(id='lego_building\\n', name='lego_building\\n', level=2, parent=..., children={}), 'running\\n': Taxon(id='running\\n', name='running\\n', level=2, parent=..., children={})})\n",
      "2022-02-01 20:36:33.193 | DEBUG    | rllull.taxonomy:add:32 - Self node Taxon(id='root', name='root', level=-1, parent=None, children={}) already in the taxonomy. Skipping...\n",
      "2022-02-01 20:36:33.194 | DEBUG    | rllull.taxonomy:add:32 - Self node Taxon(id='hobbies', name='hobbies', level=-1, parent=None, children={}) already in the taxonomy. Skipping...\n",
      "2022-02-01 20:36:33.194 | DEBUG    | rllull.taxonomy:add:27 - key sports\n",
      "2022-02-01 20:36:33.195 | DEBUG    | rllull.taxonomy:add:27 - key basketball\n",
      "\n",
      "2022-02-01 20:36:33.196 | DEBUG    | rllull.taxonomy:add:27 - key football\n",
      "\n",
      "2022-02-01 20:36:33.197 | DEBUG    | rllull.taxonomy:add:27 - key football\n",
      "2022-02-01 20:36:33.198 | DEBUG    | rllull.taxonomy:add:27 - key real\n",
      "\n",
      "2022-02-01 20:36:33.199 | DEBUG    | rllull.taxonomy:add:27 - key hockey\n",
      "\n",
      "2022-02-01 20:36:33.199 | DEBUG    | rllull.taxonomy:add:27 - key tennis\n",
      "\n",
      "2022-02-01 20:36:33.200 | DEBUG    | rllull.taxonomy:add:27 - key tennis\n",
      "2022-02-01 20:36:33.201 | DEBUG    | rllull.taxonomy:add:27 - key rafael_nadal\n",
      "\n",
      "2022-02-01 20:36:33.202 | DEBUG    | rllull.taxonomy:add:27 - key roger_federer\n",
      "\n",
      "2022-02-01 20:36:33.203 | DEBUG    | rllull.taxonomy:add:27 - key hobbies\n",
      "2022-02-01 20:36:33.203 | DEBUG    | rllull.taxonomy:add:18 - Including climbing in Taxon(id='hobbies', name='hobbies', level=1, parent=Taxon(id='root', name='root', level=0, parent=None, children={'sports': Taxon(id='sports', name='sports', level=1, parent=..., children={'basketball\\n': Taxon(id='basketball\\n', name='basketball\\n', level=2, parent=..., children={}), 'football\\n': Taxon(id='football\\n', name='football\\n', level=2, parent=..., children={}), 'football': Taxon(id='football', name='football', level=2, parent=..., children={'real\\n': Taxon(id='real\\n', name='real\\n', level=3, parent=..., children={})}), 'hockey\\n': Taxon(id='hockey\\n', name='hockey\\n', level=2, parent=..., children={}), 'tennis\\n': Taxon(id='tennis\\n', name='tennis\\n', level=2, parent=..., children={}), 'tennis': Taxon(id='tennis', name='tennis', level=2, parent=..., children={'rafael_nadal\\n': Taxon(id='rafael_nadal\\n', name='rafael_nadal\\n', level=3, parent=..., children={}), 'roger_federer\\n': Taxon(id='roger_federer\\n', name='roger_federer\\n', level=3, parent=..., children={})})}), 'hobbies': ...}), children={'lego_building\\n': Taxon(id='lego_building\\n', name='lego_building\\n', level=2, parent=..., children={}), 'running\\n': Taxon(id='running\\n', name='running\\n', level=2, parent=..., children={}), 'climbing\\n': Taxon(id='climbing\\n', name='climbing\\n', level=2, parent=..., children={})})\n",
      "2022-02-01 20:36:33.204 | DEBUG    | rllull.taxonomy:add:27 - key sports\n",
      "2022-02-01 20:36:33.205 | DEBUG    | rllull.taxonomy:add:27 - key basketball\n",
      "\n",
      "2022-02-01 20:36:33.206 | DEBUG    | rllull.taxonomy:add:27 - key football\n",
      "\n",
      "2022-02-01 20:36:33.207 | DEBUG    | rllull.taxonomy:add:27 - key football\n",
      "2022-02-01 20:36:33.208 | DEBUG    | rllull.taxonomy:add:27 - key real\n",
      "\n",
      "2022-02-01 20:36:33.209 | DEBUG    | rllull.taxonomy:add:27 - key hockey\n",
      "\n",
      "2022-02-01 20:36:33.209 | DEBUG    | rllull.taxonomy:add:27 - key tennis\n",
      "\n",
      "2022-02-01 20:36:33.210 | DEBUG    | rllull.taxonomy:add:27 - key tennis\n",
      "2022-02-01 20:36:33.211 | DEBUG    | rllull.taxonomy:add:27 - key rafael_nadal\n",
      "\n",
      "2022-02-01 20:36:33.212 | DEBUG    | rllull.taxonomy:add:27 - key roger_federer\n",
      "\n",
      "2022-02-01 20:36:33.212 | DEBUG    | rllull.taxonomy:add:27 - key hobbies\n",
      "2022-02-01 20:36:33.213 | DEBUG    | rllull.taxonomy:add:27 - key lego_building\n",
      "\n",
      "2022-02-01 20:36:33.214 | DEBUG    | rllull.taxonomy:add:27 - key running\n",
      "\n",
      "2022-02-01 20:36:33.215 | DEBUG    | rllull.taxonomy:add:27 - key climbing\n",
      "\n",
      "2022-02-01 20:36:33.215 | DEBUG    | rllull.taxonomy:add:27 - key climbing\n",
      "2022-02-01 20:36:33.216 | DEBUG    | rllull.taxonomy:add:18 - Including top_rope\n",
      " in Taxon(id='climbing', name='climbing', level=2, parent=Taxon(id='hobbies', name='hobbies', level=1, parent=Taxon(id='root', name='root', level=0, parent=None, children={'sports': Taxon(id='sports', name='sports', level=1, parent=..., children={'basketball\\n': Taxon(id='basketball\\n', name='basketball\\n', level=2, parent=..., children={}), 'football\\n': Taxon(id='football\\n', name='football\\n', level=2, parent=..., children={}), 'football': Taxon(id='football', name='football', level=2, parent=..., children={'real\\n': Taxon(id='real\\n', name='real\\n', level=3, parent=..., children={})}), 'hockey\\n': Taxon(id='hockey\\n', name='hockey\\n', level=2, parent=..., children={}), 'tennis\\n': Taxon(id='tennis\\n', name='tennis\\n', level=2, parent=..., children={}), 'tennis': Taxon(id='tennis', name='tennis', level=2, parent=..., children={'rafael_nadal\\n': Taxon(id='rafael_nadal\\n', name='rafael_nadal\\n', level=3, parent=..., children={}), 'roger_federer\\n': Taxon(id='roger_federer\\n', name='roger_federer\\n', level=3, parent=..., children={})})}), 'hobbies': ...}), children={'lego_building\\n': Taxon(id='lego_building\\n', name='lego_building\\n', level=2, parent=..., children={}), 'running\\n': Taxon(id='running\\n', name='running\\n', level=2, parent=..., children={}), 'climbing\\n': Taxon(id='climbing\\n', name='climbing\\n', level=2, parent=..., children={}), 'climbing': ...}), children={})\n",
      "2022-02-01 20:36:33.217 | DEBUG    | rllull.taxonomy:add:32 - Self node Taxon(id='root', name='root', level=-1, parent=None, children={}) already in the taxonomy. Skipping...\n",
      "2022-02-01 20:36:33.218 | DEBUG    | rllull.taxonomy:add:32 - Self node Taxon(id='hobbies', name='hobbies', level=-1, parent=None, children={}) already in the taxonomy. Skipping...\n",
      "2022-02-01 20:36:33.219 | DEBUG    | rllull.taxonomy:add:32 - Self node Taxon(id='climbing', name='climbing', level=-1, parent=None, children={}) already in the taxonomy. Skipping...\n",
      "2022-02-01 20:36:33.219 | DEBUG    | rllull.taxonomy:add:27 - key sports\n",
      "2022-02-01 20:36:33.220 | DEBUG    | rllull.taxonomy:add:27 - key basketball\n",
      "\n",
      "2022-02-01 20:36:33.221 | DEBUG    | rllull.taxonomy:add:27 - key football\n",
      "\n",
      "2022-02-01 20:36:33.222 | DEBUG    | rllull.taxonomy:add:27 - key football\n",
      "2022-02-01 20:36:33.223 | DEBUG    | rllull.taxonomy:add:27 - key real\n",
      "\n",
      "2022-02-01 20:36:33.223 | DEBUG    | rllull.taxonomy:add:27 - key hockey\n",
      "\n",
      "2022-02-01 20:36:33.224 | DEBUG    | rllull.taxonomy:add:27 - key tennis\n",
      "\n",
      "2022-02-01 20:36:33.225 | DEBUG    | rllull.taxonomy:add:27 - key tennis\n",
      "2022-02-01 20:36:33.226 | DEBUG    | rllull.taxonomy:add:27 - key rafael_nadal\n",
      "\n",
      "2022-02-01 20:36:33.227 | DEBUG    | rllull.taxonomy:add:27 - key roger_federer\n",
      "\n",
      "2022-02-01 20:36:33.227 | DEBUG    | rllull.taxonomy:add:27 - key hobbies\n",
      "2022-02-01 20:36:33.228 | DEBUG    | rllull.taxonomy:add:27 - key lego_building\n",
      "\n",
      "2022-02-01 20:36:33.229 | DEBUG    | rllull.taxonomy:add:27 - key running\n",
      "\n",
      "2022-02-01 20:36:33.230 | DEBUG    | rllull.taxonomy:add:27 - key climbing\n",
      "\n",
      "2022-02-01 20:36:33.231 | DEBUG    | rllull.taxonomy:add:27 - key climbing\n",
      "2022-02-01 20:36:33.232 | DEBUG    | rllull.taxonomy:add:18 - Including boulder\n",
      " in Taxon(id='climbing', name='climbing', level=2, parent=Taxon(id='hobbies', name='hobbies', level=1, parent=Taxon(id='root', name='root', level=0, parent=None, children={'sports': Taxon(id='sports', name='sports', level=1, parent=..., children={'basketball\\n': Taxon(id='basketball\\n', name='basketball\\n', level=2, parent=..., children={}), 'football\\n': Taxon(id='football\\n', name='football\\n', level=2, parent=..., children={}), 'football': Taxon(id='football', name='football', level=2, parent=..., children={'real\\n': Taxon(id='real\\n', name='real\\n', level=3, parent=..., children={})}), 'hockey\\n': Taxon(id='hockey\\n', name='hockey\\n', level=2, parent=..., children={}), 'tennis\\n': Taxon(id='tennis\\n', name='tennis\\n', level=2, parent=..., children={}), 'tennis': Taxon(id='tennis', name='tennis', level=2, parent=..., children={'rafael_nadal\\n': Taxon(id='rafael_nadal\\n', name='rafael_nadal\\n', level=3, parent=..., children={}), 'roger_federer\\n': Taxon(id='roger_federer\\n', name='roger_federer\\n', level=3, parent=..., children={})})}), 'hobbies': ...}), children={'lego_building\\n': Taxon(id='lego_building\\n', name='lego_building\\n', level=2, parent=..., children={}), 'running\\n': Taxon(id='running\\n', name='running\\n', level=2, parent=..., children={}), 'climbing\\n': Taxon(id='climbing\\n', name='climbing\\n', level=2, parent=..., children={}), 'climbing': ...}), children={'top_rope\\n': Taxon(id='top_rope\\n', name='top_rope\\n', level=3, parent=..., children={})})\n",
      "2022-02-01 20:36:33.232 | DEBUG    | rllull.taxonomy:add:32 - Self node Taxon(id='root', name='root', level=-1, parent=None, children={}) already in the taxonomy. Skipping...\n",
      "2022-02-01 20:36:33.233 | DEBUG    | rllull.taxonomy:add:32 - Self node Taxon(id='hobbies', name='hobbies', level=-1, parent=None, children={}) already in the taxonomy. Skipping...\n",
      "2022-02-01 20:36:33.235 | DEBUG    | rllull.taxonomy:add:27 - key sports\n",
      "2022-02-01 20:36:33.235 | DEBUG    | rllull.taxonomy:add:27 - key basketball\n",
      "\n",
      "2022-02-01 20:36:33.236 | DEBUG    | rllull.taxonomy:add:27 - key football\n",
      "\n",
      "2022-02-01 20:36:33.237 | DEBUG    | rllull.taxonomy:add:27 - key football\n",
      "2022-02-01 20:36:33.238 | DEBUG    | rllull.taxonomy:add:27 - key real\n",
      "\n",
      "2022-02-01 20:36:33.239 | DEBUG    | rllull.taxonomy:add:27 - key hockey\n",
      "\n",
      "2022-02-01 20:36:33.240 | DEBUG    | rllull.taxonomy:add:27 - key tennis\n",
      "\n",
      "2022-02-01 20:36:33.241 | DEBUG    | rllull.taxonomy:add:27 - key tennis\n",
      "2022-02-01 20:36:33.242 | DEBUG    | rllull.taxonomy:add:27 - key rafael_nadal\n",
      "\n",
      "2022-02-01 20:36:33.242 | DEBUG    | rllull.taxonomy:add:27 - key roger_federer\n",
      "\n",
      "2022-02-01 20:36:33.243 | DEBUG    | rllull.taxonomy:add:27 - key hobbies\n",
      "2022-02-01 20:36:33.244 | DEBUG    | rllull.taxonomy:add:18 - Including puzzles in Taxon(id='hobbies', name='hobbies', level=1, parent=Taxon(id='root', name='root', level=0, parent=None, children={'sports': Taxon(id='sports', name='sports', level=1, parent=..., children={'basketball\\n': Taxon(id='basketball\\n', name='basketball\\n', level=2, parent=..., children={}), 'football\\n': Taxon(id='football\\n', name='football\\n', level=2, parent=..., children={}), 'football': Taxon(id='football', name='football', level=2, parent=..., children={'real\\n': Taxon(id='real\\n', name='real\\n', level=3, parent=..., children={})}), 'hockey\\n': Taxon(id='hockey\\n', name='hockey\\n', level=2, parent=..., children={}), 'tennis\\n': Taxon(id='tennis\\n', name='tennis\\n', level=2, parent=..., children={}), 'tennis': Taxon(id='tennis', name='tennis', level=2, parent=..., children={'rafael_nadal\\n': Taxon(id='rafael_nadal\\n', name='rafael_nadal\\n', level=3, parent=..., children={}), 'roger_federer\\n': Taxon(id='roger_federer\\n', name='roger_federer\\n', level=3, parent=..., children={})})}), 'hobbies': ...}), children={'lego_building\\n': Taxon(id='lego_building\\n', name='lego_building\\n', level=2, parent=..., children={}), 'running\\n': Taxon(id='running\\n', name='running\\n', level=2, parent=..., children={}), 'climbing\\n': Taxon(id='climbing\\n', name='climbing\\n', level=2, parent=..., children={}), 'climbing': Taxon(id='climbing', name='climbing', level=2, parent=..., children={'top_rope\\n': Taxon(id='top_rope\\n', name='top_rope\\n', level=3, parent=..., children={}), 'boulder\\n': Taxon(id='boulder\\n', name='boulder\\n', level=3, parent=..., children={})})})\n",
      "Nodes in line: ['root', 'sports', 'basketball\\n']\n",
      "Nodes in line: ['root', 'sports', 'football\\n']\n",
      "Nodes in line: ['root', 'sports', 'football', 'real\\n']\n",
      "Nodes in line: ['root', 'sports', 'hockey\\n']\n",
      "Nodes in line: ['root', 'sports', 'tennis\\n']\n",
      "Nodes in line: ['root', 'sports', 'tennis', 'rafael_nadal\\n']\n",
      "Nodes in line: ['root', 'sports', 'tennis', 'roger_federer\\n']\n",
      "Nodes in line: ['root', 'hobbies', 'lego_building\\n']\n",
      "Nodes in line: ['root', 'hobbies', 'running\\n']\n",
      "Nodes in line: ['root', 'hobbies', 'climbing\\n']\n",
      "Nodes in line: ['root', 'hobbies', 'climbing', 'top_rope\\n']\n",
      "Nodes in line: ['root', 'hobbies', 'climbing', 'boulder\\n']\n",
      "Nodes in line: ['root', 'hobbies', 'puzzles']\n"
     ]
    }
   ],
   "source": [
    "for line in lines:\n",
    "    nodes_in_line = list(filter(None, line.split(\"/\")))\n",
    "    i = 0\n",
    "    parent_node_id = None\n",
    "    print(f\"Nodes in line: {nodes_in_line}\")\n",
    "    while i < len(nodes_in_line):\n",
    "        current_node = Taxon(nodes_in_line[i])\n",
    "        t.add(parent_node_id, current_node)\n",
    "        parent_node_id = current_node.id\n",
    "        i += 1\n"
   ]
  },
  {
   "cell_type": "code",
   "execution_count": 17,
   "metadata": {},
   "outputs": [
    {
     "output_type": "execute_result",
     "data": {
      "text/plain": [
       "19"
      ]
     },
     "metadata": {},
     "execution_count": 17
    }
   ],
   "source": [
    "t.nodes_count"
   ]
  },
  {
   "cell_type": "code",
   "execution_count": 18,
   "metadata": {},
   "outputs": [
    {
     "output_type": "execute_result",
     "data": {
      "text/plain": [
       "[Taxon(id='puzzles', name='puzzles', level=2, parent=Taxon(id='hobbies', name='hobbies', level=1, parent=Taxon(id='root', name='root', level=0, parent=None, children={'sports': Taxon(id='sports', name='sports', level=1, parent=..., children={'basketball\\n': Taxon(id='basketball\\n', name='basketball\\n', level=2, parent=..., children={}), 'football\\n': Taxon(id='football\\n', name='football\\n', level=2, parent=..., children={}), 'football': Taxon(id='football', name='football', level=2, parent=..., children={'real\\n': Taxon(id='real\\n', name='real\\n', level=3, parent=..., children={})}), 'hockey\\n': Taxon(id='hockey\\n', name='hockey\\n', level=2, parent=..., children={}), 'tennis\\n': Taxon(id='tennis\\n', name='tennis\\n', level=2, parent=..., children={}), 'tennis': Taxon(id='tennis', name='tennis', level=2, parent=..., children={'rafael_nadal\\n': Taxon(id='rafael_nadal\\n', name='rafael_nadal\\n', level=3, parent=..., children={}), 'roger_federer\\n': Taxon(id='roger_federer\\n', name='roger_federer\\n', level=3, parent=..., children={})})}), 'hobbies': ...}), children={'lego_building\\n': Taxon(id='lego_building\\n', name='lego_building\\n', level=2, parent=..., children={}), 'running\\n': Taxon(id='running\\n', name='running\\n', level=2, parent=..., children={}), 'climbing\\n': Taxon(id='climbing\\n', name='climbing\\n', level=2, parent=..., children={}), 'climbing': Taxon(id='climbing', name='climbing', level=2, parent=..., children={'top_rope\\n': Taxon(id='top_rope\\n', name='top_rope\\n', level=3, parent=..., children={}), 'boulder\\n': Taxon(id='boulder\\n', name='boulder\\n', level=3, parent=..., children={})}), 'puzzles': ...}), children={}),\n",
       " Taxon(id='hobbies', name='hobbies', level=1, parent=Taxon(id='root', name='root', level=0, parent=None, children={'sports': Taxon(id='sports', name='sports', level=1, parent=..., children={'basketball\\n': Taxon(id='basketball\\n', name='basketball\\n', level=2, parent=..., children={}), 'football\\n': Taxon(id='football\\n', name='football\\n', level=2, parent=..., children={}), 'football': Taxon(id='football', name='football', level=2, parent=..., children={'real\\n': Taxon(id='real\\n', name='real\\n', level=3, parent=..., children={})}), 'hockey\\n': Taxon(id='hockey\\n', name='hockey\\n', level=2, parent=..., children={}), 'tennis\\n': Taxon(id='tennis\\n', name='tennis\\n', level=2, parent=..., children={}), 'tennis': Taxon(id='tennis', name='tennis', level=2, parent=..., children={'rafael_nadal\\n': Taxon(id='rafael_nadal\\n', name='rafael_nadal\\n', level=3, parent=..., children={}), 'roger_federer\\n': Taxon(id='roger_federer\\n', name='roger_federer\\n', level=3, parent=..., children={})})}), 'hobbies': ...}), children={'lego_building\\n': Taxon(id='lego_building\\n', name='lego_building\\n', level=2, parent=..., children={}), 'running\\n': Taxon(id='running\\n', name='running\\n', level=2, parent=..., children={}), 'climbing\\n': Taxon(id='climbing\\n', name='climbing\\n', level=2, parent=..., children={}), 'climbing': Taxon(id='climbing', name='climbing', level=2, parent=..., children={'top_rope\\n': Taxon(id='top_rope\\n', name='top_rope\\n', level=3, parent=..., children={}), 'boulder\\n': Taxon(id='boulder\\n', name='boulder\\n', level=3, parent=..., children={})}), 'puzzles': Taxon(id='puzzles', name='puzzles', level=2, parent=..., children={})}),\n",
       " Taxon(id='root', name='root', level=0, parent=None, children={'sports': Taxon(id='sports', name='sports', level=1, parent=..., children={'basketball\\n': Taxon(id='basketball\\n', name='basketball\\n', level=2, parent=..., children={}), 'football\\n': Taxon(id='football\\n', name='football\\n', level=2, parent=..., children={}), 'football': Taxon(id='football', name='football', level=2, parent=..., children={'real\\n': Taxon(id='real\\n', name='real\\n', level=3, parent=..., children={})}), 'hockey\\n': Taxon(id='hockey\\n', name='hockey\\n', level=2, parent=..., children={}), 'tennis\\n': Taxon(id='tennis\\n', name='tennis\\n', level=2, parent=..., children={}), 'tennis': Taxon(id='tennis', name='tennis', level=2, parent=..., children={'rafael_nadal\\n': Taxon(id='rafael_nadal\\n', name='rafael_nadal\\n', level=3, parent=..., children={}), 'roger_federer\\n': Taxon(id='roger_federer\\n', name='roger_federer\\n', level=3, parent=..., children={})})}), 'hobbies': Taxon(id='hobbies', name='hobbies', level=1, parent=..., children={'lego_building\\n': Taxon(id='lego_building\\n', name='lego_building\\n', level=2, parent=..., children={}), 'running\\n': Taxon(id='running\\n', name='running\\n', level=2, parent=..., children={}), 'climbing\\n': Taxon(id='climbing\\n', name='climbing\\n', level=2, parent=..., children={}), 'climbing': Taxon(id='climbing', name='climbing', level=2, parent=..., children={'top_rope\\n': Taxon(id='top_rope\\n', name='top_rope\\n', level=3, parent=..., children={}), 'boulder\\n': Taxon(id='boulder\\n', name='boulder\\n', level=3, parent=..., children={})}), 'puzzles': Taxon(id='puzzles', name='puzzles', level=2, parent=..., children={})})})]"
      ]
     },
     "metadata": {},
     "execution_count": 18
    }
   ],
   "source": [
    "t.lineage('puzzles')"
   ]
  },
  {
   "cell_type": "code",
   "execution_count": null,
   "metadata": {},
   "outputs": [],
   "source": []
  }
 ]
}