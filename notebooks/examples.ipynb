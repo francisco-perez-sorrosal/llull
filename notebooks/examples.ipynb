{
 "metadata": {
  "language_info": {
   "codemirror_mode": {
    "name": "ipython",
    "version": 3
   },
   "file_extension": ".py",
   "mimetype": "text/x-python",
   "name": "python",
   "nbconvert_exporter": "python",
   "pygments_lexer": "ipython3",
   "version": "3.9.10-final"
  },
  "orig_nbformat": 2,
  "kernelspec": {
   "name": "python3",
   "display_name": "Python 3.9.10 64-bit",
   "metadata": {
    "interpreter": {
     "hash": "ac2eaa0ea0ebeafcc7822e65e46aa9d4f966f30b695406963e145ea4a91cd4fc"
    }
   }
  }
 },
 "nbformat": 4,
 "nbformat_minor": 2,
 "cells": [
  {
   "cell_type": "code",
   "execution_count": 21,
   "metadata": {},
   "outputs": [
    {
     "output_type": "stream",
     "name": "stdout",
     "text": [
      "The autoreload extension is already loaded. To reload it, use:\n  %reload_ext autoreload\n"
     ]
    }
   ],
   "source": [
    "%load_ext autoreload\n",
    "%autoreload 2"
   ]
  },
  {
   "cell_type": "code",
   "execution_count": null,
   "metadata": {},
   "outputs": [],
   "source": [
    "from llull.taxonomy import Taxonomy, Taxon\n"
   ]
  },
  {
   "cell_type": "code",
   "execution_count": null,
   "metadata": {
    "tags": []
   },
   "outputs": [],
   "source": [
    "t = Taxonomy.create_from_file('example', '../resources/simple_taxonomy.txt')"
   ]
  },
  {
   "cell_type": "code",
   "execution_count": null,
   "metadata": {},
   "outputs": [],
   "source": [
    "print(t.nodes_count)\n",
    "\n",
    "len(t.search_table.keys())"
   ]
  },
  {
   "cell_type": "code",
   "execution_count": null,
   "metadata": {},
   "outputs": [],
   "source": [
    "len(t.search_table['sports'].children)"
   ]
  },
  {
   "cell_type": "code",
   "execution_count": null,
   "metadata": {},
   "outputs": [],
   "source": [
    "t.strpath('running')"
   ]
  },
  {
   "cell_type": "code",
   "execution_count": null,
   "metadata": {},
   "outputs": [],
   "source": [
    "t.lineage('lego_building', as_str=True, reversed=True)"
   ]
  },
  {
   "cell_type": "code",
   "execution_count": null,
   "metadata": {},
   "outputs": [],
   "source": [
    "t.taxons_in_level(1)"
   ]
  },
  {
   "cell_type": "code",
   "execution_count": null,
   "metadata": {
    "tags": []
   },
   "outputs": [],
   "source": [
    "%%time\n",
    "google_product_taxo_uri = \"https://www.google.com/basepages/producttype/taxonomy.en-US.txt\"\n",
    "# google_product_taxo_uri = \"/Users/fperez/.cache/llull/taxonomy.en-US.txt\"\n",
    "gp_t = Taxonomy.create_from_file('gpt', google_product_taxo_uri, sep=\" > \", add_root_taxon=True, header_lines=1)\n",
    "gp_t.nodes_count"
   ]
  },
  {
   "cell_type": "code",
   "execution_count": null,
   "metadata": {},
   "outputs": [],
   "source": [
    "!ls -la ~/.cache"
   ]
  },
  {
   "cell_type": "code",
   "execution_count": null,
   "metadata": {},
   "outputs": [],
   "source": [
    "print(gp_t.nodes_count)\n",
    "\n",
    "gp_t.search_table.keys()"
   ]
  },
  {
   "cell_type": "code",
   "execution_count": null,
   "metadata": {},
   "outputs": [],
   "source": [
    "gp_t.root"
   ]
  },
  {
   "cell_type": "code",
   "execution_count": null,
   "metadata": {},
   "outputs": [],
   "source": [
    "gp_t.lineage('Watercraft Carburetors & Parts', as_str=True, reversed=True)"
   ]
  },
  {
   "cell_type": "code",
   "execution_count": null,
   "metadata": {},
   "outputs": [],
   "source": [
    "a = set([1, 2, 3, 4])\n",
    "b = set([1, 2, 3, 4, 5])\n",
    "c = set([1, 2, 3, 4, 6])\n",
    "print(a.intersection(b))\n",
    "print(len(a.intersection(b)))\n",
    "print(b.intersection(c))\n",
    "print(len(b.intersection(c)))"
   ]
  },
  {
   "cell_type": "code",
   "execution_count": null,
   "metadata": {},
   "outputs": [],
   "source": [
    "from urllib.parse import urlparse\n",
    "\n",
    "pu = urlparse(google_product_taxo_uri)\n",
    "pu.geturl()"
   ]
  },
  {
   "cell_type": "code",
   "execution_count": 54,
   "metadata": {
    "tags": []
   },
   "outputs": [
    {
     "output_type": "stream",
     "name": "stdout",
     "text": [
      "INFO    |llull.taxonomy:create_from_file:140 - Getting taxonomy from ../resources/Content_Taxonomy_3.0_PublicComment-Sept_2021 - Content Taxonomy _about-ness_.tsv\n",
      "INFO    |llull.taxonomy:add:57 - Root nodee setup to taxon Taxon(id='0', name='root', level=0, parent=None, children={})\n",
      "INFO    |llull.taxonomy:from_structured:174 - Header: ['Unique ID', 'Parent', 'Name', 'Tier 1', 'Tier 2', 'Tier 3', 'Tier 4']\n",
      "CPU times: user 9.74 ms, sys: 1.85 ms, total: 11.6 ms\n",
      "Wall time: 10.3 ms\n"
     ]
    },
    {
     "output_type": "execute_result",
     "data": {
      "text/plain": [
       "665"
      ]
     },
     "metadata": {},
     "execution_count": 54
    }
   ],
   "source": [
    "%%time\n",
    "\n",
    "iab_taxo_uri = \"../resources/Content_Taxonomy_3.0_PublicComment-Sept_2021 - Content Taxonomy _about-ness_.tsv\"\n",
    "iab_t = Taxonomy.create_from_file('iab', iab_taxo_uri, sep=\"\\t\", add_root_taxon=True, header_lines=1, structure_desc_file='../resources/iab_mapping.txt')\n",
    "iab_t.nodes_count"
   ]
  },
  {
   "cell_type": "code",
   "execution_count": 43,
   "metadata": {},
   "outputs": [
    {
     "output_type": "execute_result",
     "data": {
      "text/plain": [
       ", '494': Taxon(id='494', name='Disabled Sports', level=2, parent=..., children={}), '495': Taxon(id='495', name='Diving', level=2, parent=..., children={}), '496': Taxon(id='496', name='Equine Sports', level=2, parent=..., children={}), '497': Taxon(id='497', name='Horse Racing', level=2, parent=..., children={}), '498': Taxon(id='498', name='Extreme Sports', level=2, parent=..., children={'499': Taxon(id='499', name='Canoeing and Kayaking', level=3, parent=..., children={}), '500': Taxon(id='500', name='Climbing', level=3, parent=..., children={}), '501': Taxon(id='501', name='Paintball', level=3, parent=..., children={}), '502': Taxon(id='502', name='Scuba Diving', level=3, parent=..., children={}), '503': Taxon(id='503', name='Skateboarding', level=3, parent=..., children={}), '504': Taxon(id='504', name='Snowboarding', level=3, parent=..., children={}), '505': Taxon(id='505', name='Surfing and Bodyboarding', level=3, parent=..., children={}), '506': Taxon(id='506', name='Waterskiing and Wakeboarding', level=3, parent=..., children={})}), '507': Taxon(id='507', name='Australian Rules Football', level=2, parent=..., children={}), '508': Taxon(id='508', name='Fantasy Sports', level=2, parent=..., children={}), '509': Taxon(id='509', name='Field Hockey', level=2, parent=..., children={}), '510': Taxon(id='510', name='Figure Skating', level=2, parent=..., children={}), '511': Taxon(id='511', name='Fishing Sports', level=2, parent=..., children={}), '512': Taxon(id='512', name='Golf', level=2, parent=..., children={}), '513': Taxon(id='513', name='Gymnastics', level=2, parent=..., children={}), '514': Taxon(id='514', name='Hunting and Shooting', level=2, parent=..., children={}), '515': Taxon(id='515', name='Ice Hockey', level=2, parent=..., children={}), '516': Taxon(id='516', name='Inline Skating', level=2, parent=..., children={}), '517': Taxon(id='517', name='Lacrosse', level=2, parent=..., children={}), '518': Taxon(id='518', name='Auto Racing', level=2, parent=..., children={'519': Taxon(id='519', name='Motorcycle Sports', level=3, parent=..., children={})}), '520': Taxon(id='520', name='Martial Arts', level=2, parent=..., children={}), '521': Taxon(id='521', name='Olympic Sports', level=2, parent=..., children={'522': Taxon(id='522', name='Summer Olympic Sports', level=3, parent=..., children={}), '523': Taxon(id='523', name='Winter Olympic Sports', level=3, parent=..., children={})}), '524': Taxon(id='524', name='Poker and Professional Gambling', level=2, parent=..., children={}), '525': Taxon(id='525', name='Rodeo', level=2, parent=..., children={}), '526': Taxon(id='526', name='Rowing', level=2, parent=..., children={}), '527': Taxon(id='527', name='Rugby', level=2, parent=..., children={'528': Taxon(id='528', name='Rugby League', level=3, parent=..., children={}), '529': Taxon(id='529', name='Rugby Union', level=3, parent=..., children={})}), '530': Taxon(id='530', name='Sailing', level=2, parent=..., children={}), '531': Taxon(id='531', name='Skiing', level=2, parent=..., children={}), '532': Taxon(id='532', name='Snooker/Pool/Billiards', level=2, parent=..., children={}), '533': Taxon(id='533', name='Soccer', level=2, parent=..., children={}), '534': Taxon(id='534', name='Badminton', level=2, parent=..., children={}), '535': Taxon(id='535', name='Softball', level=2, parent=..., children={}), '536': Taxon(id='536', name='Squash', level=2, parent=..., children={}), '537': Taxon(id='537', name='Swimming', level=2, parent=..., children={}), '538': Taxon(id='538', name='Table Tennis', level=2, parent=..., children={}), '539': Taxon(id='539', name='Tennis', level=2, parent=..., children={}), '540': Taxon(id='540', name='Track and Field', level=2, parent=..., children={}), '541': Taxon(id='541', name='Volleyball', level=2, parent=..., children={}), '542': Taxon(id='542', name='Walking', level=2, parent=..., children={}), '543': Taxon(id='543', name='Water Polo', level=2, parent=..., children={}), '544': Taxon(id='544', name='Weightlifting', level=2, parent=..., children={}), '545': Taxon(id='545', name='Baseball', level=2, parent=..., children={}), '546': Taxon(id='546', name='Wrestling', level=2, parent=..., children={}), '547': Taxon(id='547', name='Basketball', level=2, parent=..., children={}), '548': Taxon(id='548', name='Beach Volleyball', level=2, parent=..., children={}), '549': Taxon(id='549', name='Bodybuilding', level=2, parent=..., children={}), '550': Taxon(id='550', name='Bowling', level=2, parent=..., children={}), '551': Taxon(id='551', name='Sports Equipment', level=2, parent=..., children={})}), '552': Taxon(id='552', name='Style & Fashion', level=1, parent=..., children={'553': Taxon(id='553', name='Beauty', level=2, parent=..., children={'554': Taxon(id='554', name='Hair Care', level=3, parent=..., children={}), '555': Taxon(id='555', name='Makeup and Accessories', level=3, parent=..., children={}), '556': Taxon(id='556', name='Nail Care', level=3, parent=..., children={}), '557': Taxon(id='557', name='Natural and Organic Beauty', level=3, parent=..., children={}), '558': Taxon(id='558', name='Perfume and Fragrance', level=3, parent=..., children={}), '559': Taxon(id='559', name='Skin Care', level=3, parent=..., children={})}), '560': Taxon(id='560', name=\"Women's Fashion\", level=2, parent=..., children={'561': Taxon(id='561', name=\"Women's Accessories\", level=3, parent=..., children={'562': Taxon(id='562', name=\"Women's Glasses\", level=4, parent=..., children={}), '563': Taxon(id='563', name=\"Women's Handbags and Wallets\", level=4, parent=..., children={}), '564': Taxon(id='564', name=\"Women's Hats and Scarves\", level=4, parent=..., children={}), '565': Taxon(id='565', name=\"Women's Jewelry and Watches\", level=4, parent=..., children={})}), '566': Taxon(id='566', name=\"Women's Clothing\", level=3, parent=..., children={'567': Taxon(id='567', name=\"Women's Business Wear\", level=4, parent=..., children={}), '568': Taxon(id='568', name=\"Women's Casual Wear\", level=4, parent=..., children={}), '569': Taxon(id='569', name=\"Women's Formal Wear\", level=4, parent=..., children={}), '570': Taxon(id='570', name=\"Women's Intimates and Sleepwear\", level=4, parent=..., children={}), '571': Taxon(id='571', name=\"Women's Outerwear\", level=4, parent=..., children={}), '572': Taxon(id='572', name=\"Women's Sportswear\", level=4, parent=..., children={})}), '573': Taxon(id='573', name=\"Women's Shoes and Footwear\", level=3, parent=..., children={})}), '574': Taxon(id='574', name='Body Art', level=2, parent=..., children={}), '575': Taxon(id='575', name=\"Children's Clothing\", level=2, parent=..., children={}), '576': Taxon(id='576', name='Designer Clothing', level=2, parent=..., children={}), '577': Taxon(id='577', name='Fashion Trends', level=2, parent=..., children={}), '578': Taxon(id='578', name='High Fashion', level=2, parent=..., children={}), '579': Taxon(id='579', name=\"Men's Fashion\", level=2, parent=..., children={'580': Taxon(id='580', name=\"Men's Accessories\", level=3, parent=..., children={'581': Taxon(id='581', name=\"Men's Jewelry and Watches\", level=4, parent=..., children={})}), '582': Taxon(id='582', name=\"Men's Clothing\", level=3, parent=..., children={'583': Taxon(id='583', name=\"Men's Business Wear\", level=4, parent=..., children={}), '584': Taxon(id='584', name=\"Men's Casual Wear\", level=4, parent=..., children={}), '585': Taxon(id='585', name=\"Men's Formal Wear\", level=4, parent=..., children={}), '586': Taxon(id='586', name=\"Men's Outerwear\", level=4, parent=..., children={}), '587': Taxon(id='587', name=\"Men's Sportswear\", level=4, parent=..., children={}), '588': Taxon(id='588', name=\"Men's Underwear and Sleepwear\", level=4, parent=..., children={})}), '589': Taxon(id='589', name=\"Men's Shoes and Footwear\", level=3, parent=..., children={})}), '590': Taxon(id='590', name='Personal Care', level=2, parent=..., children={'591': Taxon(id='591', name='Bath and Shower', level=3, parent=..., children={}), '592': Taxon(id='592', name='Deodorant and Antiperspirant', level=3, parent=..., children={}), '593': Taxon(id='593', name='Oral care', level=3, parent=..., children={}), '594': Taxon(id='594', name='Shaving', level=3, parent=..., children={})}), '595': Taxon(id='595', name='Street Style', level=2, parent=..., children={})}), '596': Taxon(id='596', name='Technology & Computing', level=1, parent=..., children={'597': Taxon(id='597', name='Artificial Intelligence', level=2, parent=..., children={}), '598': Taxon(id='598', name='Augmented Reality', level=2, parent=..., children={}), '599': Taxon(id='599', name='Computing', level=2, parent=..., children={'600': Taxon(id='600', name='Computer Networking', level=3, parent=..., children={}), '601': Taxon(id='601', name='Computer Peripherals', level=3, parent=..., children={}), '602': Taxon(id='602', name='Software and Applications', level=3, parent=..., children={'603': Taxon(id='603', name='3-D Graphics', level=4, parent=..., children={}), '604': Taxon(id='604', name='Photo Editing Software', level=4, parent=..., children={}), '605': Taxon(id='605', name='Shareware and Freeware', level=4, parent=..., children={}), '606': Taxon(id='606', name='Video Software', level=4, parent=..., children={}), '607': Taxon(id='607', name='Web Conferencing', level=4, parent=..., children={}), '608': Taxon(id='608', name='Antivirus Software', level=4, parent=..., children={}), '609': Taxon(id='609', name='Browsers', level=4, parent=..., children={}), '610': Taxon(id='610', name='Computer Animation', level=4, parent=..., children={}), '611': Taxon(id='611', name='Databases', level=4, parent=..., children={}), '612': Taxon(id='612', name='Desktop Publishing', level=4, parent=..., children={}), '613': Taxon(id='613', name='Digital Audio', level=4, parent=..., children={}), '614': Taxon(id='614', name='Graphics Software', level=4, parent=..., children={}), '615': Taxon(id='615', name='Operating Systems', level=4, parent=..., children={}), '80DV8O': Taxon(id='80DV8O', name='Communication', level=4, parent=..., children={}), 'WQC6HR': Taxon(id='WQC6HR', name='Maps & Navigation', level=4, parent=..., children={}), 'W3CW2J': Taxon(id='W3CW2J', name='Productivity', level=4, parent=..., children={})}), '616': Taxon(id='616', name='Data Storage and Warehousing', level=3, parent=..., children={}), '617': Taxon(id='617', name='Desktops', level=3, parent=..., children={}), '618': Taxon(id='618', name='Information and Network Security', level=3, parent=..., children={}), '619': Taxon(id='619', name='Internet', level=3, parent=..., children={'620': Taxon(id='620', name='Cloud Computing', level=4, parent=..., children={}), '621': Taxon(id='621', name='Web Development', level=4, parent=..., children={}), '622': Taxon(id='622', name='Web Hosting', level=4, parent=..., children={}), '623': Taxon(id='623', name='Email', level=4, parent=..., children={}), '624': Taxon(id='624', name='Internet for Beginners', level=4, parent=..., children={}), '625': Taxon(id='625', name='Internet of Things', level=4, parent=..., children={}), '626': Taxon(id='626', name='IT and Internet Support', level=4, parent=..., children={}), '627': Taxon(id='627', name='Search', level=4, parent=..., children={}), '628': Taxon(id='628', name='Social Networking', level=4, parent=..., children={}), '629': Taxon(id='629', name='Web Design and HTML', level=4, parent=..., children={})}), '630': Taxon(id='630', name='Laptops', level=3, parent=..., children={}), '631': Taxon(id='631', name='Programming Languages', level=3, parent=..., children={})}), '632': Taxon(id='632', name='Consumer Electronics', level=2, parent=..., children={'633': Taxon(id='633', name='Cameras and Camcorders', level=3, parent=..., children={}), '634': Taxon(id='634', name='Home Entertainment Systems', level=3, parent=..., children={}), '635': Taxon(id='635', name='Smartphones', level=3, parent=..., children={}), '636': Taxon(id='636', name='Tablets and E-readers', level=3, parent=..., children={}), '637': Taxon(id='637', name='Wearable Technology', level=3, parent=..., children={})}), '638': Taxon(id='638', name='Robotics', level=2, parent=..., children={}), '639': Taxon(id='639', name='Virtual & Augmented Reality', level=2, parent=..., children={})}), 'SPSHQ5': Taxon(id='SPSHQ5', name='Genres', level=1, parent=..., children={'641': Taxon(id='641', name='Animation & Anime', level=2, parent=..., children={}), '642': Taxon(id='642', name='Soap Opera', level=2, parent=..., children={}), '643': Taxon(id='643', name='Special Interest (Indie/Art House)', level=2, parent=..., children={}), '645': Taxon(id='645', name='Family/Children', level=2, parent=..., children={}), '646': Taxon(id='646', name='Comedy', level=2, parent=..., children={}), '647': Taxon(id='647', name='Drama', level=2, parent=..., children={}), '648': Taxon(id='648', name='Factual', level=2, parent=..., children={}), '651': Taxon(id='651', name='Reality TV', level=2, parent=..., children={}), '652': Taxon(id='652', name='Science Fiction', level=2, parent=..., children={}), '325': Taxon(id='325', name='Action/Adventure', level=2, parent=..., children={}), '326': Taxon(id='326', name='Romance', level=2, parent=..., children={}), '331': Taxon(id='331', name='Mystery', level=2, parent=..., children={}), '332': Taxon(id='332', name='Documentary', level=2, parent=..., children={}), '336': Taxon(id='336', name='Horror', level=2, parent=..., children={}), 'EZWB7V': Taxon(id='EZWB7V', name='History', level=2, parent=..., children={}), 'TIFQA5': Taxon(id='TIFQA5', name='Lifestyle', level=2, parent=..., children={}), 'A0AH3G': Taxon(id='A0AH3G', name='Talk Show', level=2, parent=..., children={}), '': Taxon(id='', name='Western', level=2, parent=..., children={}), '335': Taxon(id='335', name='Fantasy', level=2, parent=..., children={}), '156': Taxon(id='156', name='Musicals', level=2, parent=..., children={}), '649': Taxon(id='649', name='Holiday', level=2, parent=..., children={}), 'VKIV56': Taxon(id='VKIV56', name='Nature', level=2, parent=..., children={}), '370': Taxon(id='370', name='Sports Radio', level=2, parent=..., children={}), '371': Taxon(id='371', name='Talk Radio', level=2, parent=..., children={}), '376': Taxon(id='376', name='Public Radio', level=2, parent=..., children={}), '44': Taxon(id='44', name='Biographies', level=2, parent=..., children={}), '51': Taxon(id='51', name='Young Adult', level=2, parent=..., children={})}), 'KHPC5A': Taxon(id='KHPC5A', name='True Crime', level=1, parent=..., children={}), '653': Taxon(id='653', name='Travel', level=1, parent=..., children={'654': Taxon(id='654', name='Travel Accessories', level=2, parent=..., children={}), '655': Taxon(id='655', name='Travel Locations', level=2, parent=..., children={'656': Taxon(id='656', name='Africa Travel', level=3, parent=..., children={}), '657': Taxon(id='657', name='Asia Travel', level=3, parent=..., children={}), '658': Taxon(id='658', name='Australia and Oceania Travel', level=3, parent=..., children={}), '659': Taxon(id='659', name='Europe Travel', level=3, parent=..., children={}), '660': Taxon(id='660', name='North America Travel', level=3, parent=..., children={}), '661': Taxon(id='661', name='Polar Travel', level=3, parent=..., children={}), '662': Taxon(id='662', name='South America Travel', level=3, parent=..., children={})}), '663': Taxon(id='663', name='Travel Preparation and Advice', level=2, parent=..., children={}), '664': Taxon(id='664', name='Travel Type', level=2, parent=..., children={'665': Taxon(id='665', name='Adventure Travel', level=3, parent=..., children={}), '666': Taxon(id='666', name='Family Travel', level=3, parent=..., children={}), '667': Taxon(id='667', name='Honeymoons and Getaways', level=3, parent=..., children={}), '668': Taxon(id='668', name='Hotels and Motels', level=3, parent=..., children={}), '669': Taxon(id='669', name='Rail Travel', level=3, parent=..., children={}), '670': Taxon(id='670', name='Road Trips', level=3, parent=..., children={}), '671': Taxon(id='671', name='Spas', level=3, parent=..., children={}), '672': Taxon(id='672', name='Air Travel', level=3, parent=..., children={}), '673': Taxon(id='673', name='Beach Travel', level=3, parent=..., children={}), '674': Taxon(id='674', name='Bed & Breakfasts', level=3, parent=..., children={}), '675': Taxon(id='675', name='Budget Travel', level=3, parent=..., children={}), '676': Taxon(id='676', name='Business Travel', level=3, parent=..., children={}), '677': Taxon(id='677', name='Camping', level=3, parent=..., children={}), '678': Taxon(id='678', name='Cruises', level=3, parent=..., children={}), '679': Taxon(id='679', name='Day Trips', level=3, parent=..., children={})})}), '680': Taxon(id='680', name='Video Gaming', level=1, parent=..., children={'681': Taxon(id='681', name='Console Games', level=2, parent=..., children={}), '682': Taxon(id='682', name='eSports', level=2, parent=..., children={}), '683': Taxon(id='683', name='Mobile Games', level=2, parent=..., children={}), '684': Taxon(id='684', name='PC Games', level=2, parent=..., children={}), '685': Taxon(id='685', name='Video Game Genres', level=2, parent=..., children={'686': Taxon(id='686', name='Action Video Games', level=3, parent=..., children={}), '687': Taxon(id='687', name='Role-Playing Video Games', level=3, parent=..., children={}), '688': Taxon(id='688', name='Simulation Video Games', level=3, parent=..., children={}), '689': Taxon(id='689', name='Sports Video Games', level=3, parent=..., children={}), '690': Taxon(id='690', name='Strategy Video Games', level=3, parent=..., children={}), '691': Taxon(id='691', name='Action-Adventure Video Games', level=3, parent=..., children={}), '692': Taxon(id='692', name='Adventure Video Games', level=3, parent=..., children={}), '693': Taxon(id='693', name='Casual Games', level=3, parent=..., children={}), '694': Taxon(id='694', name='Educational Video Games', level=3, parent=..., children={}), '695': Taxon(id='695', name='Exercise and Fitness Video Games', level=3, parent=..., children={}), '696': Taxon(id='696', name='MMOs', level=3, parent=..., children={}), '697': Taxon(id='697', name='Music and Party Video Games', level=3, parent=..., children={}), '698': Taxon(id='698', name='Puzzle Video Games', level=3, parent=..., children={}), 'MQ2XML': Taxon(id='MQ2XML', name='Adult Video Games', level=3, parent=..., children={}), 'ZJG29S': Taxon(id='ZJG29S', name='Casino and Gambling Video Games', level=3, parent=..., children={}), 'VWGKS7': Taxon(id='VWGKS7', name='Family Video Games', level=3, parent=..., children={}), 'II436J': Taxon(id='II436J', name='Horror Video Games', level=3, parent=..., children={}), 'VK7KD0': Taxon(id='VK7KD0', name='Racing Video Games', level=3, parent=..., children={})})}), 'v9i3On': Taxon(id='v9i3On', name='Sensitive Topics', level=1, parent=..., children={'Rm3SiT': Taxon(id='Rm3SiT', name='Adult & Explicit Sexual Content', level=2, parent=..., children={}), 'avbNf2': Taxon(id='avbNf2', name='Arms & Ammunition', level=2, parent=..., children={}), 'XtODT3': Taxon(id='XtODT3', name='Crime & Harmful acts to individuals and Society and Human Right Violations', level=2, parent=..., children={}), 'I4GWl6': Taxon(id='I4GWl6', name='Death, Injury, or Military Conflict', level=2, parent=..., children={}), 'mm3UXx': Taxon(id='mm3UXx', name='Online piracy ', level=2, parent=..., children={}), 'HxqYV1': Taxon(id='HxqYV1', name='Hate speech & acts of aggression', level=2, parent=..., children={}), 'j9PaO9': Taxon(id='j9PaO9', name='Obscenity and Profanity', level=2, parent=..., children={}), 'pg0WhF': Taxon(id='pg0WhF', name='Illegal Drugs/Tobacco/eCigarettes/ Vaping/Alcohol', level=2, parent=..., children={}), '6i4dB6': Taxon(id='6i4dB6', name='Spam or Harmful Content', level=2, parent=..., children={}), '8FD8nI': Taxon(id='8FD8nI', name='Terrorism', level=2, parent=..., children={}), 'Z7rJBM': Taxon(id='Z7rJBM', name='Debated Sensitive Social Issues', level=2, parent=..., children={})})})"
      ]
     },
     "metadata": {},
     "execution_count": 43
    }
   ],
   "source": [
    "iab_t.root"
   ]
  },
  {
   "cell_type": "code",
   "execution_count": 57,
   "metadata": {
    "tags": []
   },
   "outputs": [
    {
     "output_type": "stream",
     "name": "stdout",
     "text": [
      "Automotive\nBooks and Literature\nBusiness and Finance\nCareers\nEducation\nEvents\n\tAwards Shows\n\tBusiness Expos & Conferences\n\tFan Conventions\nHolidays\nFine Art\nFood & Drink\nHealthy Living\nHobbies & Interests\nHome & Garden\nMedical Health\nEntertainment\nCrime\nDisasters\nLaw\nPolitics\nWar and Conflicts\nPersonal Finance\nPets\nPop Culture\nReal Estate\nReligion & Spirituality\nScience\nShopping\nSports\nStyle & Fashion\nTechnology & Computing\nGenres\nTrue Crime\nTravel\nVideo Gaming\nSensitive Topics\n"
     ]
    }
   ],
   "source": [
    "for k,v in iab_t.root.children.items():\n",
    "    print(v.name)\n",
    "    if v.name == \"Events\":\n",
    "        for k,v in v.children.items():\n",
    "            print(f\"\\t{v.name}\")"
   ]
  },
  {
   "cell_type": "code",
   "execution_count": 60,
   "metadata": {},
   "outputs": [
    {
     "output_type": "execute_result",
     "data": {
      "text/plain": [
       "'/root/Automotive/Auto Body Styles/Crossover'"
      ]
     },
     "metadata": {},
     "execution_count": 60
    }
   ],
   "source": [
    "iab_t.strpath(\"10\")"
   ]
  },
  {
   "cell_type": "code",
   "execution_count": null,
   "metadata": {},
   "outputs": [],
   "source": []
  }
 ]
}