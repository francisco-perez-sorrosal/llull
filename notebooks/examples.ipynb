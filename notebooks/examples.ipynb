{
 "metadata": {
  "language_info": {
   "codemirror_mode": {
    "name": "ipython",
    "version": 3
   },
   "file_extension": ".py",
   "mimetype": "text/x-python",
   "name": "python",
   "nbconvert_exporter": "python",
   "pygments_lexer": "ipython3",
   "version": "3.9.10-final"
  },
  "orig_nbformat": 2,
  "kernelspec": {
   "name": "python3",
   "display_name": "Python 3.9.10 64-bit",
   "metadata": {
    "interpreter": {
     "hash": "ac2eaa0ea0ebeafcc7822e65e46aa9d4f966f30b695406963e145ea4a91cd4fc"
    }
   }
  }
 },
 "nbformat": 4,
 "nbformat_minor": 2,
 "cells": [
  {
   "cell_type": "code",
   "execution_count": null,
   "metadata": {},
   "outputs": [],
   "source": [
    "%load_ext autoreload\n",
    "%autoreload 2"
   ]
  },
  {
   "cell_type": "code",
   "execution_count": null,
   "metadata": {},
   "outputs": [],
   "source": [
    "from rllull.taxonomy import Taxonomy, Taxon\n"
   ]
  },
  {
   "cell_type": "code",
   "execution_count": 74,
   "metadata": {
    "tags": [
     "outputPrepend"
    ]
   },
   "outputs": [
    {
     "output_type": "stream",
     "name": "stderr",
     "text": [
      "022-02-02 14:54:24.578 | DEBUG    | rllull.taxonomy:add:32 - Self node Taxon(id='root', name='root', level=-1, parent=None, children={}) already in the taxonomy. Skipping...\n",
      "2022-02-02 14:54:24.579 | DEBUG    | rllull.taxonomy:add:32 - Self node Taxon(id='sports', name='sports', level=-1, parent=None, children={}) already in the taxonomy. Skipping...\n",
      "2022-02-02 14:54:24.579 | DEBUG    | rllull.taxonomy:add:27 - key sports\n",
      "2022-02-02 14:54:24.580 | DEBUG    | rllull.taxonomy:add:18 - Including tennis in Taxon(id='sports', name='sports', level=1, parent=Taxon(id='root', name='root', level=0, parent=None, children={'sports': ...}), children={'basketball': Taxon(id='basketball', name='basketball', level=2, parent=..., children={}), 'football': Taxon(id='football', name='football', level=2, parent=..., children={'real_madrid': Taxon(id='real_madrid', name='real_madrid', level=3, parent=..., children={})}), 'hockey': Taxon(id='hockey', name='hockey', level=2, parent=..., children={})})\n",
      "2022-02-02 14:54:24.581 | DEBUG    | rllull.taxonomy:create_from_file:116 - Nodes in line: ['root', 'sports', 'tennis', 'rafael_nadal']\n",
      "2022-02-02 14:54:24.582 | DEBUG    | rllull.taxonomy:add:32 - Self node Taxon(id='root', name='root', level=-1, parent=None, children={}) already in the taxonomy. Skipping...\n",
      "2022-02-02 14:54:24.583 | DEBUG    | rllull.taxonomy:add:32 - Self node Taxon(id='sports', name='sports', level=-1, parent=None, children={}) already in the taxonomy. Skipping...\n",
      "2022-02-02 14:54:24.583 | DEBUG    | rllull.taxonomy:add:32 - Self node Taxon(id='tennis', name='tennis', level=-1, parent=None, children={}) already in the taxonomy. Skipping...\n",
      "2022-02-02 14:54:24.584 | DEBUG    | rllull.taxonomy:add:27 - key sports\n",
      "2022-02-02 14:54:24.585 | DEBUG    | rllull.taxonomy:add:27 - key basketball\n",
      "2022-02-02 14:54:24.585 | DEBUG    | rllull.taxonomy:add:27 - key football\n",
      "2022-02-02 14:54:24.586 | DEBUG    | rllull.taxonomy:add:27 - key real_madrid\n",
      "2022-02-02 14:54:24.587 | DEBUG    | rllull.taxonomy:add:27 - key hockey\n",
      "2022-02-02 14:54:24.588 | DEBUG    | rllull.taxonomy:add:27 - key tennis\n",
      "2022-02-02 14:54:24.589 | DEBUG    | rllull.taxonomy:add:18 - Including rafael_nadal in Taxon(id='tennis', name='tennis', level=2, parent=Taxon(id='sports', name='sports', level=1, parent=Taxon(id='root', name='root', level=0, parent=None, children={'sports': ...}), children={'basketball': Taxon(id='basketball', name='basketball', level=2, parent=..., children={}), 'football': Taxon(id='football', name='football', level=2, parent=..., children={'real_madrid': Taxon(id='real_madrid', name='real_madrid', level=3, parent=..., children={})}), 'hockey': Taxon(id='hockey', name='hockey', level=2, parent=..., children={}), 'tennis': ...}), children={})\n",
      "2022-02-02 14:54:24.590 | DEBUG    | rllull.taxonomy:create_from_file:116 - Nodes in line: ['root', 'sports', 'tennis', 'roger_federer']\n",
      "2022-02-02 14:54:24.590 | DEBUG    | rllull.taxonomy:add:32 - Self node Taxon(id='root', name='root', level=-1, parent=None, children={}) already in the taxonomy. Skipping...\n",
      "2022-02-02 14:54:24.591 | DEBUG    | rllull.taxonomy:add:32 - Self node Taxon(id='sports', name='sports', level=-1, parent=None, children={}) already in the taxonomy. Skipping...\n",
      "2022-02-02 14:54:24.592 | DEBUG    | rllull.taxonomy:add:32 - Self node Taxon(id='tennis', name='tennis', level=-1, parent=None, children={}) already in the taxonomy. Skipping...\n",
      "2022-02-02 14:54:24.593 | DEBUG    | rllull.taxonomy:add:27 - key sports\n",
      "2022-02-02 14:54:24.594 | DEBUG    | rllull.taxonomy:add:27 - key basketball\n",
      "2022-02-02 14:54:24.594 | DEBUG    | rllull.taxonomy:add:27 - key football\n",
      "2022-02-02 14:54:24.595 | DEBUG    | rllull.taxonomy:add:27 - key real_madrid\n",
      "2022-02-02 14:54:24.596 | DEBUG    | rllull.taxonomy:add:27 - key hockey\n",
      "2022-02-02 14:54:24.597 | DEBUG    | rllull.taxonomy:add:27 - key tennis\n",
      "2022-02-02 14:54:24.597 | DEBUG    | rllull.taxonomy:add:18 - Including roger_federer in Taxon(id='tennis', name='tennis', level=2, parent=Taxon(id='sports', name='sports', level=1, parent=Taxon(id='root', name='root', level=0, parent=None, children={'sports': ...}), children={'basketball': Taxon(id='basketball', name='basketball', level=2, parent=..., children={}), 'football': Taxon(id='football', name='football', level=2, parent=..., children={'real_madrid': Taxon(id='real_madrid', name='real_madrid', level=3, parent=..., children={})}), 'hockey': Taxon(id='hockey', name='hockey', level=2, parent=..., children={}), 'tennis': ...}), children={'rafael_nadal': Taxon(id='rafael_nadal', name='rafael_nadal', level=3, parent=..., children={})})\n",
      "2022-02-02 14:54:24.598 | DEBUG    | rllull.taxonomy:create_from_file:116 - Nodes in line: ['root', 'hobbies', 'lego_building']\n",
      "2022-02-02 14:54:24.599 | DEBUG    | rllull.taxonomy:add:32 - Self node Taxon(id='root', name='root', level=-1, parent=None, children={}) already in the taxonomy. Skipping...\n",
      "2022-02-02 14:54:24.600 | DEBUG    | rllull.taxonomy:add:18 - Including hobbies in Taxon(id='root', name='root', level=0, parent=None, children={'sports': Taxon(id='sports', name='sports', level=1, parent=..., children={'basketball': Taxon(id='basketball', name='basketball', level=2, parent=..., children={}), 'football': Taxon(id='football', name='football', level=2, parent=..., children={'real_madrid': Taxon(id='real_madrid', name='real_madrid', level=3, parent=..., children={})}), 'hockey': Taxon(id='hockey', name='hockey', level=2, parent=..., children={}), 'tennis': Taxon(id='tennis', name='tennis', level=2, parent=..., children={'rafael_nadal': Taxon(id='rafael_nadal', name='rafael_nadal', level=3, parent=..., children={}), 'roger_federer': Taxon(id='roger_federer', name='roger_federer', level=3, parent=..., children={})})})})\n",
      "2022-02-02 14:54:24.601 | DEBUG    | rllull.taxonomy:add:27 - key sports\n",
      "2022-02-02 14:54:24.602 | DEBUG    | rllull.taxonomy:add:27 - key basketball\n",
      "2022-02-02 14:54:24.602 | DEBUG    | rllull.taxonomy:add:27 - key football\n",
      "2022-02-02 14:54:24.603 | DEBUG    | rllull.taxonomy:add:27 - key real_madrid\n",
      "2022-02-02 14:54:24.604 | DEBUG    | rllull.taxonomy:add:27 - key hockey\n",
      "2022-02-02 14:54:24.605 | DEBUG    | rllull.taxonomy:add:27 - key tennis\n",
      "2022-02-02 14:54:24.606 | DEBUG    | rllull.taxonomy:add:27 - key rafael_nadal\n",
      "2022-02-02 14:54:24.606 | DEBUG    | rllull.taxonomy:add:27 - key roger_federer\n",
      "2022-02-02 14:54:24.607 | DEBUG    | rllull.taxonomy:add:27 - key hobbies\n",
      "2022-02-02 14:54:24.608 | DEBUG    | rllull.taxonomy:add:18 - Including lego_building in Taxon(id='hobbies', name='hobbies', level=1, parent=Taxon(id='root', name='root', level=0, parent=None, children={'sports': Taxon(id='sports', name='sports', level=1, parent=..., children={'basketball': Taxon(id='basketball', name='basketball', level=2, parent=..., children={}), 'football': Taxon(id='football', name='football', level=2, parent=..., children={'real_madrid': Taxon(id='real_madrid', name='real_madrid', level=3, parent=..., children={})}), 'hockey': Taxon(id='hockey', name='hockey', level=2, parent=..., children={}), 'tennis': Taxon(id='tennis', name='tennis', level=2, parent=..., children={'rafael_nadal': Taxon(id='rafael_nadal', name='rafael_nadal', level=3, parent=..., children={}), 'roger_federer': Taxon(id='roger_federer', name='roger_federer', level=3, parent=..., children={})})}), 'hobbies': ...}), children={})\n",
      "2022-02-02 14:54:24.609 | DEBUG    | rllull.taxonomy:create_from_file:116 - Nodes in line: ['root', 'hobbies', 'running']\n",
      "2022-02-02 14:54:24.610 | DEBUG    | rllull.taxonomy:add:32 - Self node Taxon(id='root', name='root', level=-1, parent=None, children={}) already in the taxonomy. Skipping...\n",
      "2022-02-02 14:54:24.611 | DEBUG    | rllull.taxonomy:add:32 - Self node Taxon(id='hobbies', name='hobbies', level=-1, parent=None, children={}) already in the taxonomy. Skipping...\n",
      "2022-02-02 14:54:24.612 | DEBUG    | rllull.taxonomy:add:27 - key sports\n",
      "2022-02-02 14:54:24.612 | DEBUG    | rllull.taxonomy:add:27 - key basketball\n",
      "2022-02-02 14:54:24.613 | DEBUG    | rllull.taxonomy:add:27 - key football\n",
      "2022-02-02 14:54:24.614 | DEBUG    | rllull.taxonomy:add:27 - key real_madrid\n",
      "2022-02-02 14:54:24.615 | DEBUG    | rllull.taxonomy:add:27 - key hockey\n",
      "2022-02-02 14:54:24.616 | DEBUG    | rllull.taxonomy:add:27 - key tennis\n",
      "2022-02-02 14:54:24.616 | DEBUG    | rllull.taxonomy:add:27 - key rafael_nadal\n",
      "2022-02-02 14:54:24.617 | DEBUG    | rllull.taxonomy:add:27 - key roger_federer\n",
      "2022-02-02 14:54:24.618 | DEBUG    | rllull.taxonomy:add:27 - key hobbies\n",
      "2022-02-02 14:54:24.619 | DEBUG    | rllull.taxonomy:add:18 - Including running in Taxon(id='hobbies', name='hobbies', level=1, parent=Taxon(id='root', name='root', level=0, parent=None, children={'sports': Taxon(id='sports', name='sports', level=1, parent=..., children={'basketball': Taxon(id='basketball', name='basketball', level=2, parent=..., children={}), 'football': Taxon(id='football', name='football', level=2, parent=..., children={'real_madrid': Taxon(id='real_madrid', name='real_madrid', level=3, parent=..., children={})}), 'hockey': Taxon(id='hockey', name='hockey', level=2, parent=..., children={}), 'tennis': Taxon(id='tennis', name='tennis', level=2, parent=..., children={'rafael_nadal': Taxon(id='rafael_nadal', name='rafael_nadal', level=3, parent=..., children={}), 'roger_federer': Taxon(id='roger_federer', name='roger_federer', level=3, parent=..., children={})})}), 'hobbies': ...}), children={'lego_building': Taxon(id='lego_building', name='lego_building', level=2, parent=..., children={})})\n",
      "2022-02-02 14:54:24.619 | DEBUG    | rllull.taxonomy:create_from_file:116 - Nodes in line: ['root', 'hobbies', 'climbing']\n",
      "2022-02-02 14:54:24.620 | DEBUG    | rllull.taxonomy:add:32 - Self node Taxon(id='root', name='root', level=-1, parent=None, children={}) already in the taxonomy. Skipping...\n",
      "2022-02-02 14:54:24.621 | DEBUG    | rllull.taxonomy:add:32 - Self node Taxon(id='hobbies', name='hobbies', level=-1, parent=None, children={}) already in the taxonomy. Skipping...\n",
      "2022-02-02 14:54:24.622 | DEBUG    | rllull.taxonomy:add:27 - key sports\n",
      "2022-02-02 14:54:24.623 | DEBUG    | rllull.taxonomy:add:27 - key basketball\n",
      "2022-02-02 14:54:24.624 | DEBUG    | rllull.taxonomy:add:27 - key football\n",
      "2022-02-02 14:54:24.625 | DEBUG    | rllull.taxonomy:add:27 - key real_madrid\n",
      "2022-02-02 14:54:24.625 | DEBUG    | rllull.taxonomy:add:27 - key hockey\n",
      "2022-02-02 14:54:24.626 | DEBUG    | rllull.taxonomy:add:27 - key tennis\n",
      "2022-02-02 14:54:24.627 | DEBUG    | rllull.taxonomy:add:27 - key rafael_nadal\n",
      "2022-02-02 14:54:24.628 | DEBUG    | rllull.taxonomy:add:27 - key roger_federer\n",
      "2022-02-02 14:54:24.629 | DEBUG    | rllull.taxonomy:add:27 - key hobbies\n",
      "2022-02-02 14:54:24.629 | DEBUG    | rllull.taxonomy:add:18 - Including climbing in Taxon(id='hobbies', name='hobbies', level=1, parent=Taxon(id='root', name='root', level=0, parent=None, children={'sports': Taxon(id='sports', name='sports', level=1, parent=..., children={'basketball': Taxon(id='basketball', name='basketball', level=2, parent=..., children={}), 'football': Taxon(id='football', name='football', level=2, parent=..., children={'real_madrid': Taxon(id='real_madrid', name='real_madrid', level=3, parent=..., children={})}), 'hockey': Taxon(id='hockey', name='hockey', level=2, parent=..., children={}), 'tennis': Taxon(id='tennis', name='tennis', level=2, parent=..., children={'rafael_nadal': Taxon(id='rafael_nadal', name='rafael_nadal', level=3, parent=..., children={}), 'roger_federer': Taxon(id='roger_federer', name='roger_federer', level=3, parent=..., children={})})}), 'hobbies': ...}), children={'lego_building': Taxon(id='lego_building', name='lego_building', level=2, parent=..., children={}), 'running': Taxon(id='running', name='running', level=2, parent=..., children={})})\n",
      "2022-02-02 14:54:24.630 | DEBUG    | rllull.taxonomy:create_from_file:116 - Nodes in line: ['root', 'hobbies', 'climbing', 'top_rope']\n",
      "2022-02-02 14:54:24.631 | DEBUG    | rllull.taxonomy:add:32 - Self node Taxon(id='root', name='root', level=-1, parent=None, children={}) already in the taxonomy. Skipping...\n",
      "2022-02-02 14:54:24.632 | DEBUG    | rllull.taxonomy:add:32 - Self node Taxon(id='hobbies', name='hobbies', level=-1, parent=None, children={}) already in the taxonomy. Skipping...\n",
      "2022-02-02 14:54:24.633 | DEBUG    | rllull.taxonomy:add:32 - Self node Taxon(id='climbing', name='climbing', level=-1, parent=None, children={}) already in the taxonomy. Skipping...\n",
      "2022-02-02 14:54:24.633 | DEBUG    | rllull.taxonomy:add:27 - key sports\n",
      "2022-02-02 14:54:24.634 | DEBUG    | rllull.taxonomy:add:27 - key basketball\n",
      "2022-02-02 14:54:24.635 | DEBUG    | rllull.taxonomy:add:27 - key football\n",
      "2022-02-02 14:54:24.636 | DEBUG    | rllull.taxonomy:add:27 - key real_madrid\n",
      "2022-02-02 14:54:24.637 | DEBUG    | rllull.taxonomy:add:27 - key hockey\n",
      "2022-02-02 14:54:24.637 | DEBUG    | rllull.taxonomy:add:27 - key tennis\n",
      "2022-02-02 14:54:24.638 | DEBUG    | rllull.taxonomy:add:27 - key rafael_nadal\n",
      "2022-02-02 14:54:24.639 | DEBUG    | rllull.taxonomy:add:27 - key roger_federer\n",
      "2022-02-02 14:54:24.640 | DEBUG    | rllull.taxonomy:add:27 - key hobbies\n",
      "2022-02-02 14:54:24.641 | DEBUG    | rllull.taxonomy:add:27 - key lego_building\n",
      "2022-02-02 14:54:24.641 | DEBUG    | rllull.taxonomy:add:27 - key running\n",
      "2022-02-02 14:54:24.642 | DEBUG    | rllull.taxonomy:add:27 - key climbing\n",
      "2022-02-02 14:54:24.643 | DEBUG    | rllull.taxonomy:add:18 - Including top_rope in Taxon(id='climbing', name='climbing', level=2, parent=Taxon(id='hobbies', name='hobbies', level=1, parent=Taxon(id='root', name='root', level=0, parent=None, children={'sports': Taxon(id='sports', name='sports', level=1, parent=..., children={'basketball': Taxon(id='basketball', name='basketball', level=2, parent=..., children={}), 'football': Taxon(id='football', name='football', level=2, parent=..., children={'real_madrid': Taxon(id='real_madrid', name='real_madrid', level=3, parent=..., children={})}), 'hockey': Taxon(id='hockey', name='hockey', level=2, parent=..., children={}), 'tennis': Taxon(id='tennis', name='tennis', level=2, parent=..., children={'rafael_nadal': Taxon(id='rafael_nadal', name='rafael_nadal', level=3, parent=..., children={}), 'roger_federer': Taxon(id='roger_federer', name='roger_federer', level=3, parent=..., children={})})}), 'hobbies': ...}), children={'lego_building': Taxon(id='lego_building', name='lego_building', level=2, parent=..., children={}), 'running': Taxon(id='running', name='running', level=2, parent=..., children={}), 'climbing': ...}), children={})\n",
      "2022-02-02 14:54:24.644 | DEBUG    | rllull.taxonomy:create_from_file:116 - Nodes in line: ['root', 'hobbies', 'climbing', 'boulder']\n",
      "2022-02-02 14:54:24.645 | DEBUG    | rllull.taxonomy:add:32 - Self node Taxon(id='root', name='root', level=-1, parent=None, children={}) already in the taxonomy. Skipping...\n",
      "2022-02-02 14:54:24.645 | DEBUG    | rllull.taxonomy:add:32 - Self node Taxon(id='hobbies', name='hobbies', level=-1, parent=None, children={}) already in the taxonomy. Skipping...\n",
      "2022-02-02 14:54:24.646 | DEBUG    | rllull.taxonomy:add:32 - Self node Taxon(id='climbing', name='climbing', level=-1, parent=None, children={}) already in the taxonomy. Skipping...\n",
      "2022-02-02 14:54:24.647 | DEBUG    | rllull.taxonomy:add:27 - key sports\n",
      "2022-02-02 14:54:24.648 | DEBUG    | rllull.taxonomy:add:27 - key basketball\n",
      "2022-02-02 14:54:24.649 | DEBUG    | rllull.taxonomy:add:27 - key football\n",
      "2022-02-02 14:54:24.649 | DEBUG    | rllull.taxonomy:add:27 - key real_madrid\n",
      "2022-02-02 14:54:24.650 | DEBUG    | rllull.taxonomy:add:27 - key hockey\n",
      "2022-02-02 14:54:24.651 | DEBUG    | rllull.taxonomy:add:27 - key tennis\n",
      "2022-02-02 14:54:24.652 | DEBUG    | rllull.taxonomy:add:27 - key rafael_nadal\n",
      "2022-02-02 14:54:24.652 | DEBUG    | rllull.taxonomy:add:27 - key roger_federer\n",
      "2022-02-02 14:54:24.653 | DEBUG    | rllull.taxonomy:add:27 - key hobbies\n",
      "2022-02-02 14:54:24.654 | DEBUG    | rllull.taxonomy:add:27 - key lego_building\n",
      "2022-02-02 14:54:24.655 | DEBUG    | rllull.taxonomy:add:27 - key running\n",
      "2022-02-02 14:54:24.656 | DEBUG    | rllull.taxonomy:add:27 - key climbing\n",
      "2022-02-02 14:54:24.657 | DEBUG    | rllull.taxonomy:add:18 - Including boulder in Taxon(id='climbing', name='climbing', level=2, parent=Taxon(id='hobbies', name='hobbies', level=1, parent=Taxon(id='root', name='root', level=0, parent=None, children={'sports': Taxon(id='sports', name='sports', level=1, parent=..., children={'basketball': Taxon(id='basketball', name='basketball', level=2, parent=..., children={}), 'football': Taxon(id='football', name='football', level=2, parent=..., children={'real_madrid': Taxon(id='real_madrid', name='real_madrid', level=3, parent=..., children={})}), 'hockey': Taxon(id='hockey', name='hockey', level=2, parent=..., children={}), 'tennis': Taxon(id='tennis', name='tennis', level=2, parent=..., children={'rafael_nadal': Taxon(id='rafael_nadal', name='rafael_nadal', level=3, parent=..., children={}), 'roger_federer': Taxon(id='roger_federer', name='roger_federer', level=3, parent=..., children={})})}), 'hobbies': ...}), children={'lego_building': Taxon(id='lego_building', name='lego_building', level=2, parent=..., children={}), 'running': Taxon(id='running', name='running', level=2, parent=..., children={}), 'climbing': ...}), children={'top_rope': Taxon(id='top_rope', name='top_rope', level=3, parent=..., children={})})\n",
      "2022-02-02 14:54:24.657 | DEBUG    | rllull.taxonomy:create_from_file:116 - Nodes in line: ['root', 'hobbies', 'puzzles']\n",
      "2022-02-02 14:54:24.658 | DEBUG    | rllull.taxonomy:add:32 - Self node Taxon(id='root', name='root', level=-1, parent=None, children={}) already in the taxonomy. Skipping...\n",
      "2022-02-02 14:54:24.659 | DEBUG    | rllull.taxonomy:add:32 - Self node Taxon(id='hobbies', name='hobbies', level=-1, parent=None, children={}) already in the taxonomy. Skipping...\n",
      "2022-02-02 14:54:24.660 | DEBUG    | rllull.taxonomy:add:27 - key sports\n",
      "2022-02-02 14:54:24.660 | DEBUG    | rllull.taxonomy:add:27 - key basketball\n",
      "2022-02-02 14:54:24.661 | DEBUG    | rllull.taxonomy:add:27 - key football\n",
      "2022-02-02 14:54:24.662 | DEBUG    | rllull.taxonomy:add:27 - key real_madrid\n",
      "2022-02-02 14:54:24.662 | DEBUG    | rllull.taxonomy:add:27 - key hockey\n",
      "2022-02-02 14:54:24.663 | DEBUG    | rllull.taxonomy:add:27 - key tennis\n",
      "2022-02-02 14:54:24.664 | DEBUG    | rllull.taxonomy:add:27 - key rafael_nadal\n",
      "2022-02-02 14:54:24.665 | DEBUG    | rllull.taxonomy:add:27 - key roger_federer\n",
      "2022-02-02 14:54:24.665 | DEBUG    | rllull.taxonomy:add:27 - key hobbies\n",
      "2022-02-02 14:54:24.666 | DEBUG    | rllull.taxonomy:add:18 - Including puzzles in Taxon(id='hobbies', name='hobbies', level=1, parent=Taxon(id='root', name='root', level=0, parent=None, children={'sports': Taxon(id='sports', name='sports', level=1, parent=..., children={'basketball': Taxon(id='basketball', name='basketball', level=2, parent=..., children={}), 'football': Taxon(id='football', name='football', level=2, parent=..., children={'real_madrid': Taxon(id='real_madrid', name='real_madrid', level=3, parent=..., children={})}), 'hockey': Taxon(id='hockey', name='hockey', level=2, parent=..., children={}), 'tennis': Taxon(id='tennis', name='tennis', level=2, parent=..., children={'rafael_nadal': Taxon(id='rafael_nadal', name='rafael_nadal', level=3, parent=..., children={}), 'roger_federer': Taxon(id='roger_federer', name='roger_federer', level=3, parent=..., children={})})}), 'hobbies': ...}), children={'lego_building': Taxon(id='lego_building', name='lego_building', level=2, parent=..., children={}), 'running': Taxon(id='running', name='running', level=2, parent=..., children={}), 'climbing': Taxon(id='climbing', name='climbing', level=2, parent=..., children={'top_rope': Taxon(id='top_rope', name='top_rope', level=3, parent=..., children={}), 'boulder': Taxon(id='boulder', name='boulder', level=3, parent=..., children={})})})\n"
     ]
    }
   ],
   "source": [
    "t = Taxonomy.create_from_file('example', '../resources/simple_taxonomy.txt')"
   ]
  },
  {
   "cell_type": "code",
   "execution_count": 76,
   "metadata": {},
   "outputs": [
    {
     "output_type": "execute_result",
     "data": {
      "text/plain": [
       "16"
      ]
     },
     "metadata": {},
     "execution_count": 76
    }
   ],
   "source": [
    "t.nodes_count"
   ]
  },
  {
   "cell_type": "code",
   "execution_count": 77,
   "metadata": {},
   "outputs": [
    {
     "output_type": "execute_result",
     "data": {
      "text/plain": [
       "['root', 'hobbies', 'lego_building']"
      ]
     },
     "metadata": {},
     "execution_count": 77
    }
   ],
   "source": [
    "t.lineage('lego_building', as_str=True, reversed=True)"
   ]
  },
  {
   "cell_type": "code",
   "execution_count": 71,
   "metadata": {},
   "outputs": [
    {
     "output_type": "execute_result",
     "data": {
      "text/plain": [
       "[Taxon(id='sports', name='sports', level=1, parent=Taxon(id='root', name='root', level=0, parent=None, children={'sports': ..., 'hobbies': Taxon(id='hobbies', name='hobbies', level=1, parent=..., children={'lego_building': Taxon(id='lego_building', name='lego_building', level=2, parent=..., children={}), 'running': Taxon(id='running', name='running', level=2, parent=..., children={}), 'climbing': Taxon(id='climbing', name='climbing', level=2, parent=..., children={'top_rope': Taxon(id='top_rope', name='top_rope', level=3, parent=..., children={}), 'boulder': Taxon(id='boulder', name='boulder', level=3, parent=..., children={})}), 'puzzles': Taxon(id='puzzles', name='puzzles', level=2, parent=..., children={})})}), children={'basketball': Taxon(id='basketball', name='basketball', level=2, parent=..., children={}), 'football': Taxon(id='football', name='football', level=2, parent=..., children={'real_madrid': Taxon(id='real_madrid', name='real_madrid', level=3, parent=..., children={})}), 'hockey': Taxon(id='hockey', name='hockey', level=2, parent=..., children={}), 'tennis': Taxon(id='tennis', name='tennis', level=2, parent=..., children={'rafael_nadal': Taxon(id='rafael_nadal', name='rafael_nadal', level=3, parent=..., children={}), 'roger_federer': Taxon(id='roger_federer', name='roger_federer', level=3, parent=..., children={})})}),\n",
       " Taxon(id='hobbies', name='hobbies', level=1, parent=Taxon(id='root', name='root', level=0, parent=None, children={'sports': Taxon(id='sports', name='sports', level=1, parent=..., children={'basketball': Taxon(id='basketball', name='basketball', level=2, parent=..., children={}), 'football': Taxon(id='football', name='football', level=2, parent=..., children={'real_madrid': Taxon(id='real_madrid', name='real_madrid', level=3, parent=..., children={})}), 'hockey': Taxon(id='hockey', name='hockey', level=2, parent=..., children={}), 'tennis': Taxon(id='tennis', name='tennis', level=2, parent=..., children={'rafael_nadal': Taxon(id='rafael_nadal', name='rafael_nadal', level=3, parent=..., children={}), 'roger_federer': Taxon(id='roger_federer', name='roger_federer', level=3, parent=..., children={})})}), 'hobbies': ...}), children={'lego_building': Taxon(id='lego_building', name='lego_building', level=2, parent=..., children={}), 'running': Taxon(id='running', name='running', level=2, parent=..., children={}), 'climbing': Taxon(id='climbing', name='climbing', level=2, parent=..., children={'top_rope': Taxon(id='top_rope', name='top_rope', level=3, parent=..., children={}), 'boulder': Taxon(id='boulder', name='boulder', level=3, parent=..., children={})}), 'puzzles': Taxon(id='puzzles', name='puzzles', level=2, parent=..., children={})})]"
      ]
     },
     "metadata": {},
     "execution_count": 71
    }
   ],
   "source": [
    "t.taxons_in_level(1)"
   ]
  },
  {
   "cell_type": "code",
   "execution_count": null,
   "metadata": {},
   "outputs": [],
   "source": []
  }
 ]
}