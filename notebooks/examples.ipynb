{
 "metadata": {
  "language_info": {
   "codemirror_mode": {
    "name": "ipython",
    "version": 3
   },
   "file_extension": ".py",
   "mimetype": "text/x-python",
   "name": "python",
   "nbconvert_exporter": "python",
   "pygments_lexer": "ipython3",
   "version": "3.9.10-final"
  },
  "orig_nbformat": 2,
  "kernelspec": {
   "name": "python3",
   "display_name": "Python 3.9.10 64-bit",
   "metadata": {
    "interpreter": {
     "hash": "ac2eaa0ea0ebeafcc7822e65e46aa9d4f966f30b695406963e145ea4a91cd4fc"
    }
   }
  }
 },
 "nbformat": 4,
 "nbformat_minor": 2,
 "cells": [
  {
   "cell_type": "code",
   "execution_count": 1,
   "metadata": {},
   "outputs": [],
   "source": [
    "%load_ext autoreload\n",
    "%autoreload 2"
   ]
  },
  {
   "cell_type": "code",
   "execution_count": 2,
   "metadata": {},
   "outputs": [],
   "source": [
    "from llull.taxonomy import Taxonomy, Taxon\n"
   ]
  },
  {
   "cell_type": "code",
   "execution_count": null,
   "metadata": {
    "tags": []
   },
   "outputs": [],
   "source": [
    "t = Taxonomy.create_from_file('example', '../resources/simple_taxonomy.txt')"
   ]
  },
  {
   "cell_type": "code",
   "execution_count": null,
   "metadata": {},
   "outputs": [],
   "source": [
    "print(t.nodes_count)\n",
    "\n",
    "len(t.search_table.keys())"
   ]
  },
  {
   "cell_type": "code",
   "execution_count": null,
   "metadata": {},
   "outputs": [],
   "source": [
    "len(t.search_table['sports'].children)"
   ]
  },
  {
   "cell_type": "code",
   "execution_count": null,
   "metadata": {},
   "outputs": [],
   "source": [
    "t.strpath('running')"
   ]
  },
  {
   "cell_type": "code",
   "execution_count": null,
   "metadata": {},
   "outputs": [],
   "source": [
    "t.lineage('lego_building', as_str=True, reversed=True)"
   ]
  },
  {
   "cell_type": "code",
   "execution_count": null,
   "metadata": {},
   "outputs": [],
   "source": [
    "t.taxons_in_level(1)"
   ]
  },
  {
   "cell_type": "code",
   "execution_count": 4,
   "metadata": {
    "tags": []
   },
   "outputs": [
    {
     "output_type": "stream",
     "name": "stdout",
     "text": [
      "INFO    |llull.utils:download_file:23 - Downloading taxonomy from https://www.google.com/basepages/producttype/taxonomy.en-US.txt\n",
      "WARNING |llull.utils:check_and_create_dir:18 - Directory /Users/fperez/.cache/llull already exists\n",
      "INFO    |llull.utils:download_file:29 - Taxonomy saved into /Users/fperez/.cache/llull/taxonomy.en-US.txt\n",
      "INFO    |llull.taxonomy:create_from_file:158 - Skipping header line 1: # Google_Product_Taxonomy_Version: 2021-09-21\n",
      "DEBUG   |llull.taxonomy:create_from_file:169 - Nodes in line: ['root', 'Animals & Pet Supplies']\n",
      "INFO    |llull.taxonomy:add:60 - Root nodee setup to taxon Taxon(id='root', name='root', level=0, parent=None, children={})\n",
      "DEBUG   |llull.taxonomy:create_from_file:169 - Nodes in line: ['root', 'Home & Garden', 'Kitchen & Dining', 'Cookware & Bakeware', 'Cookware', 'Casserole Dishes']\n",
      "DEBUG   |llull.taxonomy:create_from_file:169 - Nodes in line: ['root', 'Sporting Goods', 'Outdoor Recreation', 'Hunting & Shooting', 'Hunting', 'Animal Traps']\n",
      "DEBUG   |llull.taxonomy:create_from_file:169 - Nodes in line: ['root', 'Sporting Goods', 'Outdoor Recreation', 'Hunting & Shooting', 'Paintball & Airsoft', 'Paintball', 'Paintball Grenade Launchers']\n",
      "CPU times: user 58.5 ms, sys: 7.81 ms, total: 66.3 ms\n",
      "Wall time: 187 ms\n"
     ]
    },
    {
     "output_type": "execute_result",
     "data": {
      "text/plain": [
       "5596"
      ]
     },
     "metadata": {},
     "execution_count": 4
    }
   ],
   "source": [
    "%%time\n",
    "google_product_taxo_uri = \"https://www.google.com/basepages/producttype/taxonomy.en-US.txt\"\n",
    "# google_product_taxo_uri = \"/Users/fperez/.cache/llull/taxonomy.en-US.txt\"\n",
    "gp_t = Taxonomy.create_from_file('gpt', google_product_taxo_uri, sep=\" > \", add_root_taxon=True, skip_header=True, header_lines=1)\n",
    "gp_t.nodes_count"
   ]
  },
  {
   "cell_type": "code",
   "execution_count": null,
   "metadata": {},
   "outputs": [],
   "source": [
    "!ls -la ~/.cache"
   ]
  },
  {
   "cell_type": "code",
   "execution_count": null,
   "metadata": {},
   "outputs": [],
   "source": [
    "print(gp_t.nodes_count)\n",
    "\n",
    "gp_t.search_table.keys()"
   ]
  },
  {
   "cell_type": "code",
   "execution_count": null,
   "metadata": {},
   "outputs": [],
   "source": [
    "gp_t.root"
   ]
  },
  {
   "cell_type": "code",
   "execution_count": null,
   "metadata": {},
   "outputs": [],
   "source": [
    "gp_t.lineage('Watercraft Carburetors & Parts', as_str=True, reversed=True)"
   ]
  },
  {
   "cell_type": "code",
   "execution_count": null,
   "metadata": {},
   "outputs": [],
   "source": [
    "a = set([1, 2, 3, 4])\n",
    "b = set([1, 2, 3, 4, 5])\n",
    "c = set([1, 2, 3, 4, 6])\n",
    "print(a.intersection(b))\n",
    "print(len(a.intersection(b)))\n",
    "print(b.intersection(c))\n",
    "print(len(b.intersection(c)))"
   ]
  },
  {
   "cell_type": "code",
   "execution_count": null,
   "metadata": {},
   "outputs": [],
   "source": [
    "from urllib.parse import urlparse\n",
    "\n",
    "pu = urlparse(google_product_taxo_uri)\n",
    "pu.geturl()"
   ]
  },
  {
   "cell_type": "code",
   "execution_count": null,
   "metadata": {},
   "outputs": [],
   "source": []
  }
 ]
}